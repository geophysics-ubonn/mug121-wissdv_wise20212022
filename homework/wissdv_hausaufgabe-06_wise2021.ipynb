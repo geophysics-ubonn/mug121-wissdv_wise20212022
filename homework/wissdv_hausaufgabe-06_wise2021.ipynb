{
 "cells": [
  {
   "cell_type": "markdown",
   "metadata": {},
   "source": [
    "Wintersemester 2021/2022"
   ]
  },
  {
   "cell_type": "markdown",
   "metadata": {},
   "source": [
    "# mug121 - Wissenschaftliche Datenverarbeitung: Hausaufgabe 06 - Eigener Datensatz, Plot und Datendatei"
   ]
  },
  {
   "cell_type": "markdown",
   "metadata": {},
   "source": [
    "> Niklas Heidemann (heidemann@geo.uni-bonn.de)"
   ]
  },
  {
   "cell_type": "markdown",
   "metadata": {},
   "source": [
    "----\n",
    "**Aufgabe 1:** Eigener Datensatz **[10 Punkte]**\n",
    "\n",
    "Benennen Sie dieses IPython-Notebook um zu `mug121_HA06_Name-Vorname.ipynb` und entwickeln Sie in den Codezeilen weiter unten Ihren Code für die folgenden Punkte:\n",
    "\n",
    "0. Lesen Sie die Aufgabenstellung gründlich.\n",
    "\n",
    "1. Erstellen Sie wieder einen auskommentierten Header (Kopfzeile) mit Zweck (HA06), Autor (Ihr Name), Datum und Programmiersprache.\n",
    "\n",
    "2. Erstellen Sie einen Datensatz mit mindestens 100 Datenpunkten als NumPy-Array oder Pandas-DataFrame. Diese können sinnvoll oder zufallsverteilt sein oder einer Funktion folgen.\n",
    "   \n",
    "3. Geben Sie den Datensatz mit `print` aus. Erweitern Sie diese einfache Ausgabe um Informationen zum Datensatz. Was stellt der Datensatz dar, welche Informationen sind enthalten?\n",
    "   \n",
    "4. **Wichtig:** Kommentieren Sie wie immer Ihren Code: Was passiert in den einzelnen Zeilen / Blöcken?\n",
    "\n",
    "<br>\n",
    "\n",
    "**Hinweise:**\n",
    "\n",
    "* Sie benötigen vermutlich die Module `numpy`, `pandas` und `matplotlib.pyplot`.\n",
    "* Speichern Sie Ihr Notebook (Diskette oben links im Notebook-Fenster, `File -> Save Notebook`, `Ctrl + S` oder `File -> Export Notebook As...`).\n",
    "\n",
    "\n",
    "* Zum Kommentieren müssen Sie Ihrem Kommentar die Raute `#` voranstellen. Das kann in einer Zeile hinter Code durchgeführt werden.\n",
    "* Sollten Sie auf Fehler stoßen: Nicht verzweifeln! Tippen Sie Ihren Code, überprüfen Sie, ob Sie die Tippfehler gemacht haben und schreiben Sie bei unlösbaren Fehlern einen kurzen Kommentar-Text, was Sie an dem Fehler nicht verstehen.\n",
    "* Starten Sie bei Fehlern ggf. Ihren Kernel neu: Der Kernel sollte oben rechts auf *py3-general* eingestellt sein. Nutzen Sie `Run -> Restart Kernel and Run All Cells`.\n",
    "* Auch nicht funktionierender Code wird in dieser Hausaufgabe als Abgabe akzeptiert, sofern Sie Ihre Antwort \"sprechen\" lassen: **Code kommentieren! Und zwar soviel wie möglich!**<br>\n",
    "\n",
    "<br>"
   ]
  },
  {
   "cell_type": "code",
   "execution_count": 1,
   "metadata": {},
   "outputs": [],
   "source": [
    "# # Codezeile Aufgabe 1\n",
    "\n",
    "# Codezeile Header\n",
    "\n",
    "\n",
    "# Codezeile Datensatz\n",
    "\n",
    "\n",
    "# Codezeile Ausgabe\n",
    "\n"
   ]
  },
  {
   "cell_type": "markdown",
   "metadata": {},
   "source": [
    "----\n",
    "\n",
    "**Aufgabe 2:** Plot **[5 Punkte]**\n",
    "\n",
    "1. Plotten Sie Ihren Datensatz: Denken Sie an x- und y-Werte bzw. Datenwerte und Indizes.\n",
    "\n",
    "2. Vervollständigen Sie Ihren Plot. Denken Sie an Achsenbeschriftungen, Label der Daten, Legende, ggf. ein Grid. \n",
    "\n",
    "3. Speichern Sie den Plot als `mug121_HA06_Name-Vorname.jpg`-Datei (`plt.savefig()` vor dem abschließenden `plt.show()`)."
   ]
  },
  {
   "cell_type": "code",
   "execution_count": 2,
   "metadata": {},
   "outputs": [],
   "source": [
    "# # Codezeile Aufgabe 2\n",
    "\n"
   ]
  },
  {
   "cell_type": "markdown",
   "metadata": {},
   "source": [
    "----\n",
    "\n",
    "**Aufgabe 3:** Datendatei und metadata.ini **[5 Punkte]**\n",
    "\n",
    "1. Exportieren Sie Ihren Datensatz in ein lesbares Format (ASCII,-Format bzw. als .txt- oder .csv-Datei).\n",
    "\n",
    "2. Speichern Sie Ihre Informationen zum Datensatz in einer Metadaten-Datei `metadata.ini`, wie bereits in Hausaufgabe 1, Aufgabe 1.4. \n",
    "    Nutzen Sie hierfür ggf. die Export-Möglichkeiten der build-in-Funktionen `open` und `print`."
   ]
  },
  {
   "cell_type": "code",
   "execution_count": 3,
   "metadata": {},
   "outputs": [],
   "source": [
    "# # Codezeile Aufgabe 3\n",
    "\n"
   ]
  },
  {
   "cell_type": "markdown",
   "metadata": {},
   "source": [
    "----\n",
    "\n",
    "**Aufgabe 4 - Abgabe:**  **[2 Punkte]** \n",
    "\n",
    "Schicken Sie \n",
    "\n",
    "* Ihr bearbeitetes IPython-Notebook unter dem Namen **`mug121_HA06_Name-Vorname.ipynb`**, \n",
    "* Ihren exportierten Plot \n",
    "* die exportierte Datendatei \n",
    "* die Metadaten-Datei\n",
    "\n",
    "**bis zum 23.12.2021, 24 Uhr** an die folgende Mailadresse ab (mit Rechtsklick->Download oder File->Download kann das Notebook auf Ihren Computer heruntergeladen werden):\n",
    "   > **heidemann@geo.uni-bonn.de** mit dem Betreffspräfix **`[mug121]`**"
   ]
  },
  {
   "cell_type": "code",
   "execution_count": null,
   "metadata": {},
   "outputs": [],
   "source": []
  }
 ],
 "metadata": {
  "kernelspec": {
   "display_name": "py3-general [conda env:py3-general]",
   "language": "python",
   "name": "conda-env-py3-general-py"
  },
  "language_info": {
   "codemirror_mode": {
    "name": "ipython",
    "version": 3
   },
   "file_extension": ".py",
   "mimetype": "text/x-python",
   "name": "python",
   "nbconvert_exporter": "python",
   "pygments_lexer": "ipython3",
   "version": "3.7.6"
  }
 },
 "nbformat": 4,
 "nbformat_minor": 4
}
