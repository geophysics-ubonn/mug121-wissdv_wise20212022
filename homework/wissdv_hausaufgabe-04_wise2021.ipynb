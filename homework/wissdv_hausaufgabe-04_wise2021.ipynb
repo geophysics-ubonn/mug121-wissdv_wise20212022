{
 "cells": [
  {
   "cell_type": "markdown",
   "metadata": {},
   "source": [
    "Wintersemester 2021/2022"
   ]
  },
  {
   "cell_type": "markdown",
   "metadata": {},
   "source": [
    "# mug121 - Wissenschaftliche Datenverarbeitung: Hausaufgabe 04"
   ]
  },
  {
   "cell_type": "markdown",
   "metadata": {},
   "source": [
    "> Niklas Heidemann (heidemann@geo.uni-bonn.de)"
   ]
  },
  {
   "cell_type": "markdown",
   "metadata": {},
   "source": [
    "----\n",
    "**Aufgabe 1:** print-container Funktion erweitern\n",
    "\n",
    "Benennen Sie dieses IPython-Notebook um zu `mug121_HA04_Name-Vorname.ipynb` und entwickeln Sie in den Codezeilen weiter unten Ihren Code aus Hausaufgabe 03 weiter:\n",
    "\n",
    "1. Erstellen Sie wieder einen auskommentierten Header (Kopfzeile) mit Zweck (HA04), Autor (Ihr Name), Datum und Programmiersprache.\n",
    "2. Erstellen Sie eine Funktion, die den folgenden Code enthält:<br>\n",
    "   \n",
    "   ```python\n",
    "   def print_container(container):\n",
    "       \"\"\"\n",
    "       Ihre Funktionsbeschreibung vom letzten Mal, überarbeitet und erweitert für die folgenden Aufgaben (Docstring) \n",
    "       \"\"\"\n",
    "       \n",
    "       print(\"Container-Info:\\n\", container, \"\\n des Typs:\", type(container), \"\\n mit Anzahl Einträge:\" , len(container))\n",
    "   ```\n",
    "   <br>\n",
    "   \n",
    "3. Erweitern Sie die oben stehende Funktion auf Basis Ihrer Überlegungen in HA03. Welche Informationen können noch hilfreich sein? Welche weiteren Strings, Formatierungen etc. können Sie in dem Print-Statement unterbringen? Wollen Sie unterschiedliche Ausgaben für unterschiedliche Containertypen haben (bspw. eigene Ausgabe für biuld-in Container vs. NumPy-Array / Pandas Series/DataFrame)? <br> Lassen Sie alle Ihre Überlegungen einfließen und bauen Sie eine Funktion, die zur Ausgabe vieler Container-Infos mit einem Aufruf pro Container genutzt werden kann.\n",
    "   \n",
    "4. Erstellen Sie wieder einen beliebigen Container (gerne alle bekannten Containertypen verwenden) und speichern Sie ihn als Variable `my_container`:\n",
    "   ```python\n",
    "   my_container = \n",
    "   ```\n",
    "   <br>\n",
    "   \n",
    "   Rufen Sie die in 1.2 erstellte und erweiterte Funktion auf und übergeben Sie ihr den erstellten Container `my_container` unter Nutzung des folgenden Codeschnipsels:<br>\n",
    "   \n",
    "   ```python\n",
    "   print_container(my_container)\n",
    "   ```\n",
    "   <br>\n",
    "   \n",
    "5. **Wichtig:** Kommentieren Sie Ihren Code: Was passiert in den einzelnen Zeilen / Blöcken? Übernehmen Sie auch hier gerne Ihre Ergebnisse aus der letzten Hausaufgabe.\n",
    "6. Ersetzen Sie die Zeichenkette *Beschreibung der Funktion* durch eine kurze Beschreibung, die die Frage beantwortet: Was macht die Funktion? Aktualisieren Sie die Beschreibung entsprechend zu Ihren Erweiterungen.\n",
    "\n",
    "7. Speichern Sie Ihr Notebook (Diskette oben links im Notebook-Fenster, `File -> Save Notebook`, `Ctrl + S` oder `File -> Export Notebook As...`). <br><br>   \n",
    "\n",
    "<br>\n",
    "\n",
    "**Hinweise:**\n",
    "\n",
    "* Zum Kommentieren müssen Sie Ihrem Kommentar die Raute `#` voranstellen. Das kann in einer Zeile hinter Code durchgeführt werden.\n",
    "* Achten Sie darauf, den Funktionskörper - alles nach dem Doppelpunkt - in 1.2 richtig einzurücken (Taste Tab). Der Code in 1.3 und 1.4 wird dann wieder linksbündig gesetzt.\n",
    "* Sollten Sie auf Fehler stoßen: Nicht verzweifeln! Tippen Sie Ihren Code, überprüfen Sie, ob Sie die Tippfehler gemacht haben und schreiben Sie bei unlösbaren Fehlern einen kurzen Kommentar-Text, was Sie an dem Fehler nicht verstehen.\n",
    "* Starten Sie bei Fehlern ggf. Ihren Kernel neu: Der Kernel sollte oben rechts auf *py3-general* eingestellt sein. Nutzen Sie `Run -> Restart Kernel and Run All Cells`.\n",
    "* Auch nicht funktionierender Code wird in dieser Hausaufgabe als Abgabe akzeptiert, sofern Sie Ihre Antwort \"sprechen\" lassen: **Code kommentieren! Und zwar soviel wie möglich!**<br>\n",
    "\n",
    "<br>"
   ]
  },
  {
   "cell_type": "code",
   "execution_count": 1,
   "metadata": {},
   "outputs": [],
   "source": [
    "# # Codezeile Aufgabe 1\n",
    "\n",
    "# Codezeile Header\n",
    "\n",
    "\n",
    "\n",
    "# Codezeile Funktion\n",
    "\n",
    "\n",
    "\n",
    "# Codezeile Container-Definition\n",
    "\n",
    "\n",
    "\n",
    "# Codezeile Funktionsaufruf\n",
    "\n"
   ]
  },
  {
   "cell_type": "markdown",
   "metadata": {},
   "source": [
    "----\n",
    "\n",
    "**Aufgabe 2:** Statistik an 10 Einträgen\n",
    "\n",
    "Erstellen Sie sich einen Container mit **10 Einträgen**. Der Container kann eine Liste, ein Tupel oder ein Dictionary sein. Die Einträge müssen vom Typ **`int`** oder **`float`** sein.\n",
    "\n",
    "Nutzen Sie built-in Funktionen wie `sum, min, max, len` um sich eine **simple \"Statistik\"** des Datencontainers ausgeben zu lassen. Denken Sie beispielsweise auch an Mittelwert und Median.\n",
    "Formatieren Sie die Ausgabe möglichst allgemeingültig und schreiben Sie gegebenenfalls eine Funktion für diese Aufgabe.\n",
    "\n",
    "<br>\n"
   ]
  },
  {
   "cell_type": "code",
   "execution_count": 2,
   "metadata": {},
   "outputs": [],
   "source": [
    "# Codezeile Aufgabe 2\n",
    "\n"
   ]
  },
  {
   "cell_type": "markdown",
   "metadata": {},
   "source": [
    "----\n",
    "\n",
    "**Aufgabe 3:** Paper lesen\n",
    "\n",
    "Laden Sie das Paper *Wilson-et-al_2016_1609.00037v2.pdf* aus dem Ordner *Literatur* auf eCampus herunter [Link auf das Paper in eCampus](https://ecampus.uni-bonn.de/goto_ecampus_file_2404386.html).\n",
    "\n",
    "Das Paper trägt den Titel \"Good Enough Practices in Scientific Computing\" (Wilson et al. 2016). \n",
    "\n",
    "Lesen Sie das Paper und notieren Sie Stichpunkte zu den folgenden Fragen:\n",
    "\n",
    "1. Wie gehen Sie beim Durchlesen vor? Macht es Sinn, zuerst am Anfang und am Ende zu lesen und dann den gesamten Text? Was denken Sie?\n",
    "2. Was enthalten die einzelnen Kapitel (inkl. der einleitenden Kapitel Abstract, Author Summary, Introduction, Acknowledgements)? Machen Sie einen Stichpunkt zu jedem Kapitel, falls möglich.\n",
    "3. Was sind die wesentlichen Aussagen? Fassen Sie die wesentlichen Aussagen des Papers in maximal 5 Stichpunkten zusammen.\n",
    "4. Warum behandeln wir dieses Paper?\n",
    "\n",
    "Halten Sie die Antworten in der folgenden Markdown-Zeile fest:\n"
   ]
  },
  {
   "cell_type": "markdown",
   "metadata": {},
   "source": [
    "**Antwort Aufgabe 3:**\n",
    "\n"
   ]
  },
  {
   "cell_type": "markdown",
   "metadata": {},
   "source": [
    "----\n",
    "**Aufgabe 4:** Eigener Dictionary Datencontainer\n",
    "\n",
    "Erstellen Sie einen ***Dictionary*** und speichern Sie ihn als Variable **`data`**. Dieser Dictionary soll folgendermaßen aussehen:\n",
    "\n",
    "* Zwei Einträge (Schlüssel-Wert-Paare)\n",
    "* Schlüssel sind die Namen von Städten, formatiert als String\n",
    "* Werte sind Tupel oder Listen mit zeitlich abhängigen Daten (Temperatur / Bevölkerung / Erdbebenstärke etc. / andere geowissenschaftlich relevante Daten)\n",
    "* maximal 10 Einträge pro Tupel/Liste\n",
    "\n",
    "Geben Sie die Werte aus, indem Sie `data` einzeln mit den Schlüsseln indizieren.\n",
    "\n",
    "Hinweis: gewünschtes Schema\n",
    "\n",
    "```python\n",
    "data = {\"Stadt1\":[Werte1], \"Stadt2\":[Werte2]}\n",
    "```\n",
    "\n",
    "Hinweis 2: Hier Arbeit hineinzustecken wird sich ebenfalls lohnen: Den eigenen Datensatz werden wir demnächst plotten.\n",
    "\n",
    "<br>"
   ]
  },
  {
   "cell_type": "code",
   "execution_count": 3,
   "metadata": {},
   "outputs": [],
   "source": [
    "# Codezeile Aufgabe 4\n",
    "\n"
   ]
  },
  {
   "cell_type": "markdown",
   "metadata": {},
   "source": [
    "----\n",
    "\n",
    "**Aufgabe 5 - Abgabe:** Schicken Sie das IPython-Notebook `mug121_HA04_Name-Vorname.ipynb` an die folgende Mailadresse ab (mit Rechtsklick->Download oder File->Download kann das Notebook auf Ihren Computer heruntergeladen werden):\n",
    "   > heidemann@geo.uni-bonn.de mit dem Betreffspräfix `[mug121]`"
   ]
  }
 ],
 "metadata": {
  "kernelspec": {
   "display_name": "py3-general [conda env:py3-general]",
   "language": "python",
   "name": "conda-env-py3-general-py"
  },
  "language_info": {
   "codemirror_mode": {
    "name": "ipython",
    "version": 3
   },
   "file_extension": ".py",
   "mimetype": "text/x-python",
   "name": "python",
   "nbconvert_exporter": "python",
   "pygments_lexer": "ipython3",
   "version": "3.7.6"
  }
 },
 "nbformat": 4,
 "nbformat_minor": 4
}
