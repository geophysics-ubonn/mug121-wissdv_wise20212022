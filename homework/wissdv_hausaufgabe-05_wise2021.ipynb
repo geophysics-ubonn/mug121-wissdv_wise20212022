{
 "cells": [
  {
   "cell_type": "markdown",
   "metadata": {},
   "source": [
    "Wintersemester 2021/2022"
   ]
  },
  {
   "cell_type": "markdown",
   "metadata": {},
   "source": [
    "# mug121 - Wissenschaftliche Datenverarbeitung: Hausaufgabe 05 - Frequenzspektrum"
   ]
  },
  {
   "cell_type": "markdown",
   "metadata": {},
   "source": [
    "> Niklas Heidemann (heidemann@geo.uni-bonn.de)"
   ]
  },
  {
   "cell_type": "markdown",
   "metadata": {},
   "source": [
    "----\n",
    "**Aufgabe 1:** Frequenzspektrum - Statistik und Plot **[20 Punkte]**\n",
    "\n",
    "Benennen Sie dieses IPython-Notebook um zu `mug121_HA05_Name-Vorname.ipynb` und entwickeln Sie in den Codezeilen weiter unten Ihren Code für die folgenden Punkte:\n",
    "\n",
    "0. Lesen Sie die Aufgabenstellung gründlich.\n",
    "\n",
    "1. Erstellen Sie wieder einen auskommentierten Header (Kopfzeile) mit Zweck (HA04), Autor (Ihr Name), Datum und Programmiersprache.\n",
    "\n",
    "2. Laden Sie den Datensatz `f26_spektrum.txt`. Der Datensatz enthält Frequenzen, die für eine Labormessung verwendet wurden.\n",
    "   \n",
    "3. Geben Sie das Frequenzspektrum aus. Erweitern Sie diese einfache Ausgabe um eine kurze Statistik und Information zum Datensatz. Nutzen Sie dabei gerne auch Ihre bestehende Funktion aus Hausaufgabe 3 oder 4.\n",
    "    <br> **Minimale Anforderung:** Länge (Anzahl der Einträge), Minimum, Maximum.\n",
    "\n",
    "4. Plotten Sie das Spektrum: Auf der horizontalen (x) Achse soll die Anzahl / der Index des Datenpunkts stehen, auf der vertikalen (y) Achse die Frequenz $f$ in [Hz].\n",
    "\n",
    "5. Vervollständigen Sie Ihren Plot. Denken Sie an Achsenbeschriftungen, Label der Daten, Legende, ggf. ein Grid und Titel. \n",
    "\n",
    "6. Speichern Sie den Plot als `mug121_HA05_Name-Vorname.jpg`-Datei (`plt.savefig()` vor dem anschließenden `plt.show()`).\n",
    "   \n",
    "7. **Wichtig:** Kommentieren Sie wie immer Ihren Code: Was passiert in den einzelnen Zeilen / Blöcken?\n",
    "\n",
    "8. Beschreiben Sie kurz als Kommentar oder Docstring: <br> Was fällt Ihnen an den Werten auf? Sind Sie auf eine bestimmte Art und Weise gewählt? Werden bestimmte Frequenzen vermieden? <br>\n",
    "    Hinweis: Gleichen Sie die Werte grob mit allgemeinen Störeinflüssen ab.\n",
    "\n",
    "9. Speichern Sie Ihr Notebook (Diskette oben links im Notebook-Fenster, `File -> Save Notebook`, `Ctrl + S` oder `File -> Export Notebook As...`). <br><br>   \n",
    "\n",
    "<br>\n",
    "\n",
    "**Hinweise:**\n",
    "\n",
    "* Sie benötigen vermutlich die Module `numpy` und `matplotlib.pyplot`.\n",
    "* Zum Kommentieren müssen Sie Ihrem Kommentar die Raute `#` voranstellen. Das kann in einer Zeile hinter Code durchgeführt werden.\n",
    "* Sollten Sie auf Fehler stoßen: Nicht verzweifeln! Tippen Sie Ihren Code, überprüfen Sie, ob Sie die Tippfehler gemacht haben und schreiben Sie bei unlösbaren Fehlern einen kurzen Kommentar-Text, was Sie an dem Fehler nicht verstehen.\n",
    "* Starten Sie bei Fehlern ggf. Ihren Kernel neu: Der Kernel sollte oben rechts auf *py3-general* eingestellt sein. Nutzen Sie `Run -> Restart Kernel and Run All Cells`.\n",
    "* Auch nicht funktionierender Code wird in dieser Hausaufgabe als Abgabe akzeptiert, sofern Sie Ihre Antwort \"sprechen\" lassen: **Code kommentieren! Und zwar soviel wie möglich!**<br>\n",
    "\n",
    "<br>"
   ]
  },
  {
   "cell_type": "code",
   "execution_count": 4,
   "metadata": {},
   "outputs": [],
   "source": [
    "# # Codezeile Aufgabe 1\n",
    "\n",
    "# Codezeile Header\n",
    "\n",
    "\n",
    "\n",
    "# Codezeile Laden\n",
    "\n",
    "\n",
    "\n",
    "# Codezeile Ausgabe\n",
    "\n",
    "\n",
    "\n",
    "# Codezeile Plot\n",
    "\n",
    "\n",
    "\n",
    "# Interpretation "
   ]
  },
  {
   "cell_type": "markdown",
   "metadata": {},
   "source": [
    "----\n",
    "\n",
    "**Aufgabe 2 - Abgabe:** **[2 Punkte]** \n",
    "\n",
    "Schicken Sie Ihr bearbeitetes IPython-Notebook unter dem Namen **`mug121_HA05_Name-Vorname.ipynb`** **bis zum 13.12.2021, 24 Uhr** an die folgende Mailadresse ab (mit Rechtsklick->Download oder File->Download kann das Notebook auf Ihren Computer heruntergeladen werden):\n",
    "   > **heidemann@geo.uni-bonn.de** mit dem Betreffspräfix **`[mug121]`**"
   ]
  }
 ],
 "metadata": {
  "kernelspec": {
   "display_name": "py3-general [conda env:py3-general]",
   "language": "python",
   "name": "conda-env-py3-general-py"
  },
  "language_info": {
   "codemirror_mode": {
    "name": "ipython",
    "version": 3
   },
   "file_extension": ".py",
   "mimetype": "text/x-python",
   "name": "python",
   "nbconvert_exporter": "python",
   "pygments_lexer": "ipython3",
   "version": "3.7.6"
  }
 },
 "nbformat": 4,
 "nbformat_minor": 4
}
