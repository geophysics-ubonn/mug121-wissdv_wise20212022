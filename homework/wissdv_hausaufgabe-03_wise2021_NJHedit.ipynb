{
 "cells": [
  {
   "cell_type": "markdown",
   "metadata": {},
   "source": [
    "Wintersemester 2021/2022"
   ]
  },
  {
   "cell_type": "markdown",
   "metadata": {},
   "source": [
    "# mug121 - Wissenschaftliche Datenverarbeitung: Hausaufgabe 03 - Dummy-Datensatz und Funktionen"
   ]
  },
  {
   "cell_type": "markdown",
   "metadata": {},
   "source": [
    "> Niklas Heidemann (heidemann@geo.uni-bonn.de)"
   ]
  },
  {
   "cell_type": "markdown",
   "metadata": {},
   "source": [
    "----\n",
    "**Aufgabe 1:**\n",
    "\n",
    "Benennen Sie dieses IPython-Notebook um zu `mug121_HA03-pseudo_Name-Vorname.ipynb` und entwickeln Sie in den Codezeilen weiter unten einen Code mit der folgenden Abfolge:\n",
    "\n",
    "1. Erstellen Sie einen auskommentierten Header (Kopfzeile) mit Zweck (HA03), Autor (Ihr Name), Datum und Programmiersprache.\n",
    "2. Erstellen Sie eine Funktion, die den folgenden Code enthält:<br>\n",
    "   \n",
    "   ```python\n",
    "   def print_container(container):\n",
    "       \"\"\"\n",
    "       Beschreibung der Funktion (Docstring)\n",
    "       \"\"\"\n",
    "       \n",
    "       print(\"Container-Info:\\n\", container, \"\\n des Typs:\", type(container), \"\\n mit Anzahl Einträge:\" , len(container))\n",
    "   ```\n",
    "   <br>\n",
    "   \n",
    "3. Erstellen Sie einen beliebigen Container und speichern Sie ihn als Variable `my_container`:\n",
    "   ```python\n",
    "   my_container = \n",
    "   ```\n",
    "   <br>\n",
    "   \n",
    "4. Rufen Sie die in 1.2 erstellte Funktion auf und übergeben Sie ihr den erstellten Container `my_container` unter Nutzung des folgenden Codeschnipsels:<br>\n",
    "   \n",
    "   ```python\n",
    "   print_container(my_container)\n",
    "   ```\n",
    "   <br>\n",
    "   \n",
    "5. **Wichtig:** Kommentieren Sie Ihren Code: Was passiert in den einzelnen Zeilen / Blöcken?\n",
    "6. Ersetzen Sie die Zeichenkette *Beschreibung der Funktion* durch eine kurze Beschreibung, die die Frage beantwortet: Was macht die Funktion?\n",
    "\n",
    "7. Speichern Sie Ihr Notebook (Diskette oben links im Notebook-Fenster, `File -> Save Notebook`, `Ctrl + S` oder `File -> Export Notebook As...`). <br><br>\n",
    "   **Abgabe:** Schicken Sie das IPython-Notebook `mug121_HA03-pseudo_Name-Vorname.ipynb` an die folgende Mailadresse ab (mit Rechtsklick->Download oder File->Download kann das Notebook auf Ihren Computer heruntergeladen werden):\n",
    "   > heidemann@geo.uni-bonn.de mit dem Betreffspräfix `[mug121]`\n",
    "   \n",
    "\n",
    "<br>\n",
    "\n",
    "**Hinweise:**\n",
    "\n",
    "* Zum Kommentieren müssen Sie Ihrem Kommentar die Raute `#` voranstellen. Das kann in einer Zeile hinter Code durchgeführt werden.\n",
    "* Achten Sie darauf, den Funktionskörper - alles nach dem Doppelpunkt - in 1.2 richtig einzurücken (Taste Tab). Der Code in 1.3 und 1.4 wird dann wieder linksbündig gesetzt.\n",
    "* Sollten Sie auf Fehler stoßen: Nicht verzweifeln! Tippen Sie Ihren Code, überprüfen Sie, ob Sie die Tippfehler gemacht haben und schreiben Sie bei unlösbaren Fehlern einen kurzen Kommentar-Text, was Sie an dem Fehler nicht verstehen.\n",
    "* Starten Sie bei Fehlern ggf. Ihren Kernel neu: Der Kernel sollte oben rechts auf *py3-general* eingestellt sein. Nutzen Sie `Run -> Restart Kernel and Run All Cells`.\n",
    "* Auch nicht funktionierender Code wird in dieser Hausaufgabe als Abgabe akzeptiert, sofern Sie Ihre Antwort \"sprechen\" lassen: **Code kommentieren! Und zwar soviel wie möglich!**\n"
   ]
  },
  {
   "cell_type": "code",
   "execution_count": 1,
   "metadata": {},
   "outputs": [
    {
     "name": "stdout",
     "output_type": "stream",
     "text": [
      "Container-Info:\n",
      " test \n",
      " des Typs: <class 'str'> \n",
      " mit Anzahl Einträge: 4\n",
      "Container-Info:\n",
      " [42, 42, 1] \n",
      " des Typs: <class 'list'> \n",
      " mit Anzahl Einträge: 3\n",
      "Container-Info:\n",
      " (8, 9, 10, 'string') \n",
      " des Typs: <class 'tuple'> \n",
      " mit Anzahl Einträge: 4\n",
      "Container-Info:\n",
      " {'a': 1, 'b': 2, 'c': 10} \n",
      " des Typs: <class 'dict'> \n",
      " mit Anzahl Einträge: 3\n"
     ]
    }
   ],
   "source": [
    "# Codezeile Header\n",
    "\n",
    "# HA03, Niklas Heidemann, 09.11.2021, Python\n",
    "\n",
    "\n",
    "# Codezeile Funktion\n",
    "\n",
    "def print_container(eingabe):\n",
    "    \"\"\"\n",
    "    Funktion zur Ausgabe von Infos zu einem Container \n",
    "\n",
    "    Parameters:\n",
    "        eingabe: Container-Übergabe [list-like object]\n",
    "\n",
    "    Returns:\n",
    "        Nothing\n",
    "\n",
    "    \"\"\"\n",
    "\n",
    "    print(\"Container-Info:\\n\", eingabe, \"\\n des Typs:\", type(eingabe), \n",
    "         \"\\n mit Anzahl Einträge:\" , len(eingabe))\n",
    "#     return eingabe # # wird später als Zurückgabe einer Funktion genutzt werden\n",
    "\n",
    "# Codezeile Container-Definition\n",
    "\n",
    "my_container = [1, 2, 3]\n",
    "\n",
    "\n",
    "# Codezeile Funktionsaufruf\n",
    "\n",
    "print_container(\"test\")\n",
    "print_container([42, 42, 1])\n",
    "print_container((8, 9, 10, \"string\"))\n",
    "print_container({\"a\":1, \"b\":2, \"c\":10})"
   ]
  },
  {
   "cell_type": "code",
   "execution_count": null,
   "metadata": {},
   "outputs": [],
   "source": []
  }
 ],
 "metadata": {
  "kernelspec": {
   "display_name": "py3-general [conda env:py3-general]",
   "language": "python",
   "name": "conda-env-py3-general-py"
  },
  "language_info": {
   "codemirror_mode": {
    "name": "ipython",
    "version": 3
   },
   "file_extension": ".py",
   "mimetype": "text/x-python",
   "name": "python",
   "nbconvert_exporter": "python",
   "pygments_lexer": "ipython3",
   "version": "3.7.6"
  }
 },
 "nbformat": 4,
 "nbformat_minor": 4
}
